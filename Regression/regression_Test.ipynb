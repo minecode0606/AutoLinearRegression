{
 "cells": [
  {
   "cell_type": "markdown",
   "source": [
    "# 사이킷런 모듈을 통한 회귀분석 테스트"
   ],
   "metadata": {
    "collapsed": false,
    "pycharm": {
     "name": "#%% md\n"
    }
   }
  },
  {
   "cell_type": "markdown",
   "source": [
    "## 데이터 준비"
   ],
   "metadata": {
    "collapsed": false,
    "pycharm": {
     "name": "#%% md\n"
    }
   }
  },
  {
   "cell_type": "code",
   "execution_count": 11,
   "outputs": [],
   "source": [
    "# 데이터 엔지니어링을 위한 라이브러리를 임포트합니다\n",
    "import pandas as pd\n",
    "import numpy as np\n",
    "\n",
    "# 데이터 시각화를 위한 라이브러리를 임포트합니다.\n",
    "import matplotlib.pyplot as plt\n",
    "\n",
    "# 회귀를 위한 라이브러리를 임포트합니다.\n",
    "from sklearn.linear_model import LinearRegression\n",
    "from sklearn.preprocessing import PolynomialFeatures\n",
    "from sklearn.model_selection import train_test_split\n"
   ],
   "metadata": {
    "collapsed": false,
    "pycharm": {
     "name": "#%%\n"
    }
   }
  },
  {
   "cell_type": "code",
   "execution_count": 12,
   "outputs": [],
   "source": [
    "# 선형회귀 , 다항회귀를 위한 데이터를 불러옵니다.\n",
    "polyregression_csv_data = pd.read_csv(filepath_or_buffer=\"test_data_set/polynomial-regression.csv\")"
   ],
   "metadata": {
    "collapsed": false,
    "pycharm": {
     "name": "#%%\n"
    }
   }
  },
  {
   "cell_type": "code",
   "execution_count": 13,
   "outputs": [
    {
     "data": {
      "text/plain": "   araba_fiyat  araba_max_hiz\n0           60            180\n1           70            180\n2           80            200\n3          100            200\n4          120            200",
      "text/html": "<div>\n<style scoped>\n    .dataframe tbody tr th:only-of-type {\n        vertical-align: middle;\n    }\n\n    .dataframe tbody tr th {\n        vertical-align: top;\n    }\n\n    .dataframe thead th {\n        text-align: right;\n    }\n</style>\n<table border=\"1\" class=\"dataframe\">\n  <thead>\n    <tr style=\"text-align: right;\">\n      <th></th>\n      <th>araba_fiyat</th>\n      <th>araba_max_hiz</th>\n    </tr>\n  </thead>\n  <tbody>\n    <tr>\n      <th>0</th>\n      <td>60</td>\n      <td>180</td>\n    </tr>\n    <tr>\n      <th>1</th>\n      <td>70</td>\n      <td>180</td>\n    </tr>\n    <tr>\n      <th>2</th>\n      <td>80</td>\n      <td>200</td>\n    </tr>\n    <tr>\n      <th>3</th>\n      <td>100</td>\n      <td>200</td>\n    </tr>\n    <tr>\n      <th>4</th>\n      <td>120</td>\n      <td>200</td>\n    </tr>\n  </tbody>\n</table>\n</div>"
     },
     "execution_count": 13,
     "metadata": {},
     "output_type": "execute_result"
    }
   ],
   "source": [
    "polyregression_csv_data.head()"
   ],
   "metadata": {
    "collapsed": false,
    "pycharm": {
     "name": "#%%\n"
    }
   }
  },
  {
   "cell_type": "code",
   "execution_count": 14,
   "outputs": [],
   "source": [
    "# x축이 될 araba_fiyat, y축이 될 araba_max_hiz 데이터를 분리합니다.\n",
    "araba_fiyat_ls , araba_max_hiz_ls = np.array(polyregression_csv_data[\"araba_fiyat\"]), np.array(polyregression_csv_data[\"araba_max_hiz\"])"
   ],
   "metadata": {
    "collapsed": false,
    "pycharm": {
     "name": "#%%\n"
    }
   }
  },
  {
   "cell_type": "code",
   "execution_count": 16,
   "outputs": [
    {
     "data": {
      "text/plain": "<Figure size 576x396 with 1 Axes>",
      "image/png": "[encoded data removed]"
     },
     "metadata": {},
     "output_type": "display_data"
    }
   ],
   "source": [
    "# 개형파악을 위해 그래프를 그려봅니다.\n",
    "plt.style.use('seaborn')\n",
    "plt.scatter(araba_fiyat_ls, araba_max_hiz_ls)\n",
    "plt.xlabel(xlabel=\"araba_fiyat\")\n",
    "plt.ylabel(ylabel=\"araba_max_hiz\")\n",
    "plt.show()"
   ],
   "metadata": {
    "collapsed": false,
    "pycharm": {
     "name": "#%%\n"
    }
   }
  },
  {
   "cell_type": "code",
   "execution_count": 15,
   "outputs": [],
   "source": [],
   "metadata": {
    "collapsed": false,
    "pycharm": {
     "name": "#%%\n"
    }
   }
  }
 ],
 "metadata": {
  "kernelspec": {
   "display_name": "Python 3",
   "language": "python",
   "name": "python3"
  },
  "language_info": {
   "codemirror_mode": {
    "name": "ipython",
    "version": 2
   },
   "file_extension": ".py",
   "mimetype": "text/x-python",
   "name": "python",
   "nbconvert_exporter": "python",
   "pygments_lexer": "ipython2",
   "version": "2.7.6"
  }
 },
 "nbformat": 4,
 "nbformat_minor": 0
}